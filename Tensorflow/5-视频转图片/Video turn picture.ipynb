{
 "cells": [
  {
   "cell_type": "code",
   "execution_count": 1,
   "metadata": {},
   "outputs": [
    {
     "ename": "SyntaxError",
     "evalue": "invalid syntax (<ipython-input-1-420e29e9e56b>, line 16)",
     "output_type": "error",
     "traceback": [
      "\u001b[1;36m  File \u001b[1;32m\"<ipython-input-1-420e29e9e56b>\"\u001b[1;36m, line \u001b[1;32m16\u001b[0m\n\u001b[1;33m    if (!frame):\u001b[0m\n\u001b[1;37m        ^\u001b[0m\n\u001b[1;31mSyntaxError\u001b[0m\u001b[1;31m:\u001b[0m invalid syntax\n"
     ]
    }
   ],
   "source": [
    "#视频分解图片\n",
    "# 1 load    2 info  3 parse   4 imshow  imwrite\n",
    "\n",
    "import cv2\n",
    "import time\n",
    "\n",
    "cap = cv2.VideoCapture(\"1.mp4\") # 获取一个视频打开cap    1  file name\n",
    "isOpened = cap.isOpened  #  判断是否打开 \n",
    "print(isOpened)\n",
    "fps = cap.get(cv2.CAP_PROP_FPS)   #获得视频帧率\n",
    "width = int (cap.get(cv2.CAP_PROP_FRAME_WIDTH))  # 获取宽\n",
    "height = int (cap.get(cv2.CAP_PROP_FRAME_HEIGHT))   # 获取高\n",
    "print(fps,width,height)\n",
    "i=0;\n",
    "while(isOpened):\n",
    "    if i>10:\n",
    "        break;\n",
    "    else:\n",
    "        i = i+1\n",
    "    (flag,frame) = cap.read() #读取每一张 flag  frame\n",
    "    fileName = 'image'+str(i)+'.jpg'\n",
    "    print(fileName)\n",
    "    if flag==True:\n",
    "       cv2.imwrite(fileName,frame,[cv2.IMWRITE_JPEG_QUALITY,100])\n",
    "       time.sleep(0.04)  #大概到\n",
    "print('end')"
   ]
  },
  {
   "cell_type": "code",
   "execution_count": null,
   "metadata": {},
   "outputs": [],
   "source": []
  }
 ],
 "metadata": {
  "kernelspec": {
   "display_name": "Python 3",
   "language": "python",
   "name": "python3"
  },
  "language_info": {
   "codemirror_mode": {
    "name": "ipython",
    "version": 3
   },
   "file_extension": ".py",
   "mimetype": "text/x-python",
   "name": "python",
   "nbconvert_exporter": "python",
   "pygments_lexer": "ipython3",
   "version": "3.6.8"
  }
 },
 "nbformat": 4,
 "nbformat_minor": 2
}
