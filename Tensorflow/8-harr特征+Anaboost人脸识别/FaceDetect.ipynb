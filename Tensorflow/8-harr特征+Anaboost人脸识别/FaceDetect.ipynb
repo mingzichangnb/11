{
 "cells": [
  {
   "cell_type": "code",
   "execution_count": null,
   "metadata": {},
   "outputs": [],
   "source": [
    "# 1 load xml  2 lod pig  2 gray  4 detect  5 draw\n",
    "import cv2\n",
    "import numpy as np\n",
    "\n",
    "#1 load xml  file name\n",
    "face_xml = cv2.CascadeClassifier('haarcascade_frontalface_default.xml')\n",
    "eye_xml= cv2.CascadeClassifier('haarcascade_eye.xml')\n",
    "\n",
    "#2  load jpg\n",
    "img = cv2.imread('face.jpg')\n",
    "cv2.imshow('src',img)\n",
    "\n",
    "#3 hear gray\n",
    "gray = cv2.cvtColor(img,cv2.COLOR_BGR2GRAY)\n",
    "\n",
    "#detect\n",
    "#灰度  比例缩放  最小5像素\n",
    "faces = face_xml.detectMultiScale(gray,1.3,5)\n",
    "print ('face=',len(faces))\n",
    "\n",
    "#draw\n",
    "for (x,y,w,h) in faces:\n",
    "   cv2.rectangle(img,(x,y),(x+w,y+h),(255,0,0),2)\n",
    "   roi_face = gray[y:y+h,x:x+w]\n",
    "   roi_color = img[y:y+h,x:x+w]\n",
    "   eyes = eye_xml.detectMultiScale(roi_face)\n",
    "   print('eyse=',len(eyes) )\n",
    "   for (e_x,e_y,e_w,e_h) in eyes:\n",
    "        cv2.rectangle(roi_color,(x,y),(x+w,y+h),(255,0,0),2)\n",
    "        \n",
    "cv2.imshow('dst',img)\n",
    "cv2.waitKey(0)\n",
    "         \n",
    "\n",
    "\n"
   ]
  },
  {
   "cell_type": "code",
   "execution_count": null,
   "metadata": {},
   "outputs": [],
   "source": []
  }
 ],
 "metadata": {
  "kernelspec": {
   "display_name": "Python 3",
   "language": "python",
   "name": "python3"
  },
  "language_info": {
   "codemirror_mode": {
    "name": "ipython",
    "version": 3
   },
   "file_extension": ".py",
   "mimetype": "text/x-python",
   "name": "python",
   "nbconvert_exporter": "python",
   "pygments_lexer": "ipython3",
   "version": "3.6.8"
  }
 },
 "nbformat": 4,
 "nbformat_minor": 2
}
