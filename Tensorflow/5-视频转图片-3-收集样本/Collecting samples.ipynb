{
 "cells": [
  {
   "cell_type": "code",
   "execution_count": 1,
   "metadata": {},
   "outputs": [
    {
     "ename": "ModuleNotFoundError",
     "evalue": "No module named 'cv2'",
     "output_type": "error",
     "traceback": [
      "\u001b[1;31m---------------------------------------------------------------------------\u001b[0m",
      "\u001b[1;31mModuleNotFoundError\u001b[0m                       Traceback (most recent call last)",
      "\u001b[1;32m<ipython-input-1-d976077c3870>\u001b[0m in \u001b[0;36m<module>\u001b[1;34m\u001b[0m\n\u001b[0;32m      2\u001b[0m \u001b[1;31m# 1 load    2 info  3 parse   4 imshow  imwrite\u001b[0m\u001b[1;33m\u001b[0m\u001b[1;33m\u001b[0m\u001b[1;33m\u001b[0m\u001b[0m\n\u001b[0;32m      3\u001b[0m \u001b[1;33m\u001b[0m\u001b[0m\n\u001b[1;32m----> 4\u001b[1;33m \u001b[1;32mimport\u001b[0m \u001b[0mcv2\u001b[0m\u001b[1;33m\u001b[0m\u001b[1;33m\u001b[0m\u001b[0m\n\u001b[0m\u001b[0;32m      5\u001b[0m \u001b[1;32mimport\u001b[0m \u001b[0mtime\u001b[0m\u001b[1;33m\u001b[0m\u001b[1;33m\u001b[0m\u001b[0m\n\u001b[0;32m      6\u001b[0m \u001b[1;33m\u001b[0m\u001b[0m\n",
      "\u001b[1;31mModuleNotFoundError\u001b[0m: No module named 'cv2'"
     ]
    }
   ],
   "source": [
    "#视频分解图片\n",
    "# 1 load    2 info  3 parse   4 imshow  imwrite\n",
    "\n",
    "import cv2\n",
    "import time\n",
    "\n",
    "def read_video():\n",
    "    i=1300;  \n",
    "    cap = cv2.VideoCapture(0) # 获取一个视频打开cap    1  file name\n",
    "    isOpened = cap.isOpened  #  判断是否打开 \n",
    "    print(isOpened)\n",
    "    fps = cap.get(cv2.CAP_PROP_FPS)   #获得视频帧率\n",
    "    width = int (cap.get(cv2.CAP_PROP_FRAME_WIDTH))  # 获取宽\n",
    "    height = int (cap.get(cv2.CAP_PROP_FRAME_HEIGHT))   # 获取高\n",
    "    print(fps,width,height)\n",
    "\n",
    "    width = int (64)  # 获取宽\n",
    "    height = int (128)   # 获取高\n",
    "    while(isOpened):\n",
    "        \n",
    "        flag, frame = cap.read()  \n",
    "        #cv2.imshow(\"video\", frame)\n",
    "        if(i>2300):\n",
    "            print('录制完毕')\n",
    "            break;\n",
    "        fileName = 'image'+str(i)+'.jpg'\n",
    "        print(fileName)\n",
    "        if (flag==True):\n",
    "           frame1 = cv2.resize(frame,(width,height))\n",
    "           cv2.imwrite(fileName,frame1,[cv2.IMWRITE_JPEG_QUALITY,100])\n",
    "           time.sleep(0.04)  #大概到\n",
    "           i=i+1\n",
    "        else:\n",
    "           break;\n",
    "    print('end')\n",
    "    return \n",
    "\n",
    "    \n",
    "read_video()\n",
    "#cap.release()\n",
    "cv2.destroyAllWindows()"
   ]
  },
  {
   "cell_type": "code",
   "execution_count": null,
   "metadata": {},
   "outputs": [],
   "source": [
    "\n"
   ]
  },
  {
   "cell_type": "code",
   "execution_count": null,
   "metadata": {},
   "outputs": [],
   "source": []
  }
 ],
 "metadata": {
  "kernelspec": {
   "display_name": "Python 3",
   "language": "python",
   "name": "python3"
  },
  "language_info": {
   "codemirror_mode": {
    "name": "ipython",
    "version": 3
   },
   "file_extension": ".py",
   "mimetype": "text/x-python",
   "name": "python",
   "nbconvert_exporter": "python",
   "pygments_lexer": "ipython3",
   "version": "3.7.3"
  }
 },
 "nbformat": 4,
 "nbformat_minor": 2
}
