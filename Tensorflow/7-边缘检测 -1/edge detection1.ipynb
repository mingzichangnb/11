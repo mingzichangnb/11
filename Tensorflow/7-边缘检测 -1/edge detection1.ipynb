{
 "cells": [
  {
   "cell_type": "code",
   "execution_count": null,
   "metadata": {},
   "outputs": [],
   "source": [
    "# sobel  算子  边缘检测\n",
    "import cv2\n",
    "import numpy as np\n",
    "import random \n",
    "import math\n",
    "\n",
    "img = cv2.imread('image0.jpg',1) #灰度图片打开\n",
    "imgInfo = img.shape\n",
    "height = imgInfo[0]\n",
    "width = imgInfo[1]\n",
    "cv2.imshow('src',img)\n",
    "#sobel边缘检测     1 算子模版  2  图片卷积  3 阈值判决\n",
    "\n",
    "#  竖直方向算子              水平方向算子\n",
    "#【 1  2   1               【1  0  -1\n",
    "#   0  0  0                2  0  -2\n",
    "#  -1 -2 -1 】            1  0  -1】\n",
    "\n",
    "#【1,2,3,4】图像信息  【a,b,c,d】卷积模版    a*1+b*2+c*3+d*4 = dat  卷积值\n",
    "#a 水平方向卷积值 b 竖直方向卷积值 \n",
    "#sqrt(a*a+b*b)  = f  >  th    阈值判断\n",
    "\n",
    "gray = cv2.cvtColor(img,cv2.COLOR_BGR2GRAY)  #1  \n",
    "dat = np.zeros((height,width,1),np.uint8)\n",
    "for i in range(0,height-2):\n",
    "    for j in range(0,width-2):\n",
    "        gy = gray[i,j]*1+gray[i,j+1]*2+gray[i,j+2]*1 -  gray[i+2,j]*1 - gray[i+2,j+1]*2 - gray[i+2,j+2]*1\n",
    "        gx = gray[i,j]*1+gray[i+1,j]*2+gray[i+2,j]*1 -  gray[i,j+2]*1 - gray[i+1,j+2]*2 - gray[i+2,j+2]*1\n",
    "        grad = math.sqrt(gx*gx+gy*gy)\n",
    "        if grad > 50:\n",
    "            dat[i,j] =255\n",
    "        else:\n",
    "            dat[i,j]=0\n",
    "cv2.imshow('dat',dat)\n",
    "cv2.waitKey(0)\n",
    "\n",
    "#gray = cv2.cvtColor(img,cv2.COLOR_BGR2GRAY)  #1\n",
    "#imgG = cv2.Canny(img,50,50) #  1 data  2  th  \n",
    "#cv2.imshow('dat',dat)\n",
    "#cv2.waitKey(0)\n"
   ]
  },
  {
   "cell_type": "code",
   "execution_count": null,
   "metadata": {},
   "outputs": [],
   "source": []
  }
 ],
 "metadata": {
  "kernelspec": {
   "display_name": "Python 3",
   "language": "python",
   "name": "python3"
  },
  "language_info": {
   "codemirror_mode": {
    "name": "ipython",
    "version": 3
   },
   "file_extension": ".py",
   "mimetype": "text/x-python",
   "name": "python",
   "nbconvert_exporter": "python",
   "pygments_lexer": "ipython3",
   "version": "3.6.8"
  }
 },
 "nbformat": 4,
 "nbformat_minor": 2
}
