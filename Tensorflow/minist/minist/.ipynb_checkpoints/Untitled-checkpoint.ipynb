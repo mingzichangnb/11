{
 "cells": [
  {
   "cell_type": "code",
   "execution_count": 3,
   "metadata": {},
   "outputs": [
    {
     "data": {
      "text/plain": [
       "\"\\nreload(sys)\\nsys.setdefaultencoding('utf-8')\\n\\ndigits = load_digits()\\n# 数据纬度，1797幅图，8*8\\nprint(digits.data.shape)\\n\\n# 分割数据\\nX_train, X_test, Y_train, Y_test = train_test_split(digits.data, digits.target, test_size=0.25, random_state=33)\\n\\nss = StandardScaler()\\n# fit是实例方法，必须由实例调用\\nX_train = ss.fit_transform(X_train)\\nX_test = ss.transform(X_test)\\n\\nlsvc = LinearSVC()\\nlsvc.fit(X_train, Y_train)\\n\\nY_predict = lsvc.predict(X_test)\\n\\nprint(classification_report(Y_test, Y_predict, target_names=digits.target_names.astype(str)))\\n\""
      ]
     },
     "execution_count": 3,
     "metadata": {},
     "output_type": "execute_result"
    }
   ],
   "source": [
    "# -*- coding:utf-8 -*-\n",
    "import sys\n",
    "from sklearn.datasets import load_digits  # 加载手写数字识别数据\n",
    "import pylab as pl\n",
    "from sklearn.cross_validation import train_test_split  # 训练测试数据分割\n",
    "'''\n",
    "from sklearn.preprocessing import StandardScaler  # 标准化工具\n",
    "from sklearn.svm import LinearSVC\n",
    "from sklearn.metrics import classification_report  # 预测结果分析工具'''\n",
    "'''\n",
    "reload(sys)\n",
    "sys.setdefaultencoding('utf-8')\n",
    "\n",
    "digits = load_digits()\n",
    "# 数据纬度，1797幅图，8*8\n",
    "print(digits.data.shape)\n",
    "\n",
    "# 分割数据\n",
    "X_train, X_test, Y_train, Y_test = train_test_split(digits.data, digits.target, test_size=0.25, random_state=33)\n",
    "\n",
    "ss = StandardScaler()\n",
    "# fit是实例方法，必须由实例调用\n",
    "X_train = ss.fit_transform(X_train)\n",
    "X_test = ss.transform(X_test)\n",
    "\n",
    "lsvc = LinearSVC()\n",
    "lsvc.fit(X_train, Y_train)\n",
    "\n",
    "Y_predict = lsvc.predict(X_test)\n",
    "\n",
    "print(classification_report(Y_test, Y_predict, target_names=digits.target_names.astype(str)))\n",
    "'''"
   ]
  },
  {
   "cell_type": "code",
   "execution_count": null,
   "metadata": {},
   "outputs": [],
   "source": []
  }
 ],
 "metadata": {
  "kernelspec": {
   "display_name": "Python 3",
   "language": "python",
   "name": "python3"
  },
  "language_info": {
   "codemirror_mode": {
    "name": "ipython",
    "version": 3
   },
   "file_extension": ".py",
   "mimetype": "text/x-python",
   "name": "python",
   "nbconvert_exporter": "python",
   "pygments_lexer": "ipython3",
   "version": "3.6.8"
  }
 },
 "nbformat": 4,
 "nbformat_minor": 2
}
